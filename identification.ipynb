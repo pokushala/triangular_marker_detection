{
 "cells": [
  {
   "cell_type": "code",
   "execution_count": 139,
   "metadata": {},
   "outputs": [],
   "source": [
    "import numpy as np\n",
    "import math\n",
    "from pprint import pprint\n",
    "from itertools import permutations"
   ]
  },
  {
   "cell_type": "code",
   "execution_count": 161,
   "metadata": {},
   "outputs": [],
   "source": [
    "import itertools\n",
    "import pylab\n",
    "import matplotlib.path\n",
    "import matplotlib.pyplot as plt"
   ]
  },
  {
   "cell_type": "markdown",
   "metadata": {},
   "source": [
    "## Параметры "
   ]
  },
  {
   "cell_type": "code",
   "execution_count": 173,
   "metadata": {},
   "outputs": [],
   "source": [
    "LIMIT_DISTANCE = 10  #см. Это диаметр маркера\n",
    "EPS = 0.5 #см. Насколько точно рамка определяет положение ножек маркера?"
   ]
  },
  {
   "cell_type": "markdown",
   "metadata": {},
   "source": [
    "## класс курсора-вектора\n",
    "\n",
    "точка с координатами x, y\n",
    "\n",
    "- __add__ сложение векторов\n",
    "\n",
    "\n",
    "- __sub__ вычитание\n",
    "\n",
    "\n",
    "- __repr__ вывод\n",
    "\n",
    "\n",
    "- length расстояние от начала координат\n",
    "\n",
    "\n",
    "- unit_vector единичный вектор\n"
   ]
  },
  {
   "cell_type": "code",
   "execution_count": 296,
   "metadata": {},
   "outputs": [],
   "source": [
    "class Vector:\n",
    "    def __init__(self, x, y):\n",
    "        self.x = x\n",
    "        self.y = y\n",
    "\n",
    "    # function to add two vectors\n",
    "    def __add__(self, other):\n",
    "        return Vector(self.x+other.x, self.y+other.y)\n",
    "\n",
    "    # function to subtract vectors\n",
    "    def __sub__(self, other):\n",
    "        return Vector(self.x-other.x, self.y-other.y)\n",
    "\n",
    "    # make the vector printable\n",
    "    def __repr__(self):\n",
    "        return \"x: %s y: %s\" % (self.x, self.y)\n",
    "    \n",
    "    # calculate distance from (0,0)\n",
    "    def length(self):\n",
    "        return np.linalg.norm([self.x, self.y])\n",
    "    \n",
    "    # calc unit vector\n",
    "    def unit_vector(self):\n",
    "        length = self.length()\n",
    "        return Vector(self.x/length, self.y/length)"
   ]
  },
  {
   "cell_type": "markdown",
   "metadata": {},
   "source": [
    "### вспомогательные функции для работы с геометрией\n",
    "\n",
    "- distance(p1, p2) вычисление длины по двум точкам\n",
    "\n",
    "\n",
    "- dot_product(v1, v2) скалярное произведение\n",
    "\n",
    "\n",
    "- calc_angle(p1, p2) расчет угла между v1 и v2 в радианах\n",
    "\n",
    "\n",
    "- rotate_vector (vec, angle) вращение вектора\n",
    "\n",
    "\n",
    "- clockwise_difference_between_angles(original_angle, changed_angle) вычисление разницы между углами в радианах\n",
    "\n",
    "\n",
    "- is_point_in_circle(center, radius, point) проверка попадания ОДНОЙ ТОЧКИ в окружность радиуса радиус с центром в указанных точках"
   ]
  },
  {
   "cell_type": "code",
   "execution_count": 148,
   "metadata": {},
   "outputs": [],
   "source": [
    "UNIT_VECTOR = Vector(0, 1)"
   ]
  },
  {
   "cell_type": "code",
   "execution_count": 301,
   "metadata": {},
   "outputs": [],
   "source": [
    "# function to calculate the distance between two points\n",
    "def distance(p1, p2):\n",
    "    dist = np.linalg.norm([p2.x - p1.x, p2.y - p1.y])\n",
    "    return dist\n",
    "\n",
    "def dot_product(v1, v2):\n",
    "    return np.dot([v1.x, v1.y], [v2.x, v2.y])\n",
    "\n",
    "#returns the angle in radians between vectors 'v1' and 'v2'\n",
    "def calc_angle(v1, v2, deg=False):\n",
    "    print('Первый вектор:', v1)\n",
    "    print('Второй вектор:', v2)\n",
    "    radians = np.arccos(np.clip(dot_product(v1.unit_vector(), v2.unit_vector()), -1.0, 1.0))\n",
    "    result = radians\n",
    "    print('радианы:', result)\n",
    "    if deg:\n",
    "        result = np.degrees([radians.real])[0]  # переводим в градусы\n",
    "    return result\n",
    "\n",
    "# function to rotate a vector by a certain angle\n",
    "def rotate_vector(vec, angle, deg=False):\n",
    "    cos_angle = np.cos(angle)\n",
    "    sin_angle = np.sin(angle)\n",
    "    rotated_vector = Vector(vec.x*cos_angle - vec.y*sin_angle, vec.x*sin_angle + vec.y*cos_angle)\n",
    "    return rotated_vector\n",
    "\n",
    "# function to calculate the clockwise difference between two angles\n",
    "def clockwise_difference_between_angles(original_angle, changed_angle, deg=False):\n",
    "    if original_angle > changed_angle:\n",
    "        changed_angle += 2*math.pi\n",
    "    angle = changed_angle - original_angle\n",
    "    return angle\n",
    "\n",
    "# function to check if a point lies in a circle \n",
    "def is_point_in_circle(center, radius, point):\n",
    "    distance_from_center = distance(center, point)\n",
    "    return distance_from_center <= radius"
   ]
  },
  {
   "cell_type": "markdown",
   "metadata": {},
   "source": [
    "### класс треугольник\n",
    "\n",
    "set_cursors получает три точки устанавоивает в правильном порядке вершины стороны и ориентацию треугольника\n",
    "\n",
    "arrange_sides ранжирует стороны по длине\n",
    "\n",
    "get_IDS\n",
    "\n",
    "pretty_print выводит инфу о треугольнике"
   ]
  },
  {
   "cell_type": "code",
   "execution_count": 257,
   "metadata": {},
   "outputs": [],
   "source": [
    "class Triangle:\n",
    "   \n",
    "    # The side between vertices 1 and 2 has to be the shortest side\n",
    "    # The side between vertices 2 and 3 has to be he intermediate side\n",
    "    # The side between vertices 3 and 1 has to be the longest side\n",
    "    \n",
    "    \n",
    "    # function calculate the side lengths and orientation of the trinagle\n",
    "    def __init__(self, p1, p2, p3):\n",
    "        points_sides = self.arrange_sides(p1, p2, p3)\n",
    "        self.v1 = points_sides['v1']\n",
    "        self.v2 = points_sides['v2']\n",
    "        self.v3 = points_sides['v3']\n",
    "        self.long_side = points_sides['a']\n",
    "        self.middle_side = points_sides['b']\n",
    "        self.short_side = points_sides['c']\n",
    "        \n",
    "        # check for rotation order (v2 left or right of v1 to v3)\n",
    "        if ((self.v3.x - self.v1.x)*(self.v2.y - self.v1.y) - (self.v3.y - self.v1.y)*(self.v2.x - self.v1.x)) > 0:\n",
    "            self.clockwise_rotation = True\n",
    "        else:\n",
    "            self.clockwise_rotation = False\n",
    "           \n",
    "        #self.center = None\n",
    "        #self.radius = None\n",
    "    \n",
    "    # function calculate the side lengths            \n",
    "    def arrange_sides(self, p1, p2, p3):\n",
    "\n",
    "        # get the length of the triangle sides and put them in order\n",
    "        a = distance(p1, p2) + 0.000000001 # prevent same size sides\n",
    "        b = distance(p2, p3)\n",
    "        c = distance(p3, p1) - 0.000000001 # prevent same size sides\n",
    "\n",
    "        # return [v1, v2, v3, long_side, middle_side, short_side]\n",
    "\n",
    "        if (a > b) & (a > c):\n",
    "            # a is longest\n",
    "            if b > c:\n",
    "                # b is middle\n",
    "                # c is shortest\n",
    "                return {'v1':p1, 'v2':p3, 'v3':p2, 'a':a, 'b':b, 'c':c}\n",
    "            else:\n",
    "                # c is middle\n",
    "                # b is shortest\n",
    "                return {'v1':p2, 'v2':p3, 'v3':p1, 'a':a, 'b':c, 'c':b} #[p2, p3, p1, a, c, b]\n",
    "\n",
    "        elif (b > a) & (b > c):\n",
    "            # b is longest\n",
    "            if a > c:\n",
    "                # a is middle\n",
    "                # c is shortest\n",
    "                return {'v1':p3, 'v2':p2, 'v3':p2, 'a':b, 'b':a, 'c':c} #[p3, p1, p2, b, a, c]\n",
    "            else:\n",
    "                # c is middle\n",
    "                # a is shortest\n",
    "                return {'v1':p2, 'v2':p1, 'v3':p3, 'a':b, 'b':c, 'c':a} #[p2, p1, p3, b, c, a]\n",
    "\n",
    "        elif (c > a) & (c > b):\n",
    "            # c is longest\n",
    "            if a > b:\n",
    "                # a is middle\n",
    "                # b is shortest\n",
    "                return {'v1':p3, 'v2':p2, 'v3':p1, 'a':c, 'b':a, 'c':b} #[p3, p2, p1, c, a, b]\n",
    "\n",
    "            else:\n",
    "                # b is middle\n",
    "                # a is shortest\n",
    "                return {'v1':p1, 'v2':p2, 'v3':p3, 'a':c, 'b':b, 'c':a}\n",
    "                \n",
    "    #def get_vertex(self):\n",
    "    #    return [v1, v2, v3]\n",
    "    \n",
    "\n",
    "\n",
    "    # function to print a fancy info about the triangle to console\n",
    "    def pretty_print(self):\n",
    "        print('\\n--------Triangle -------------------\\n')\n",
    "        print('v1:', self.v1)\n",
    "        print('v2:', self.v2)\n",
    "        print('v3:', self.v3)\n",
    "        print('Longest side v3-v1:', self.long_side)\n",
    "        print('Middle side v2-v3:', self.middle_side)\n",
    "        print('Shortest side v1-v2:', self.short_side)\n",
    "        if self.clockwise_rotation:\n",
    "            print ('Middle side is counter clockwise oriented')\n",
    "            print('clockwise_rotation')\n",
    "        else:\n",
    "            print ('Middle side is clockwise oriented')\n",
    "            print('counter clockwise_rotation')\n",
    "            \n",
    "    def draw_triangle(self):\n",
    "        xy = np.array([[self.v1.x, self.v1.y], [self.v2.x, self.v2.y], [self.v3.x, self.v3.y]])\n",
    "        xs = xy[:, 0]\n",
    "        ys = xy[:, 1]\n",
    "        plt.figure()\n",
    "        plt.scatter(xs, ys, s=70, color='red')\n",
    "\n",
    "        triangle = plt.Polygon(xy, color='red', fill=0)\n",
    "        plt.gca().add_patch(triangle)\n",
    "        plt.xlim(0, 20)\n",
    "        plt.ylim(0, 20)\n",
    "        #plt.savefig('example.pdf')\n",
    "        plt.show()        "
   ]
  },
  {
   "cell_type": "markdown",
   "metadata": {},
   "source": [
    "## создание всевозможных треугольников из списка точек с условием что самая длинная сторона меньше диаметра маркера"
   ]
  },
  {
   "cell_type": "code",
   "execution_count": 243,
   "metadata": {},
   "outputs": [],
   "source": [
    "# function to create all possible triangles from a list of points \n",
    "# создание всевозможных треугольников из списка точек\n",
    "\n",
    "def create_triangles_from_cursors(list_of_cursors):\n",
    "    \n",
    "    triangles = []\n",
    "  \n",
    "    # create  tuples with the length of 3 points, in sorted order, no repeated elements\n",
    "    for combination in list(itertools.combinations(list_of_cursors, 3)):\n",
    "        # create triangles from the tuples\n",
    "        t = Triangle(combination[0], combination[1], combination[2])\n",
    "        if t.long_side<LIMIT_DISTANCE:\n",
    "            triangles.append(t)\n",
    "    return triangles"
   ]
  },
  {
   "cell_type": "markdown",
   "metadata": {},
   "source": [
    "### сравнение двух треугольников с учетом погрешности\n",
    "получаем два треугольника\n",
    "\n",
    "если равны то true;\n",
    "\n",
    "если нет то false;"
   ]
  },
  {
   "cell_type": "code",
   "execution_count": 249,
   "metadata": {},
   "outputs": [],
   "source": [
    "# function to compare two triangles on their similarity\n",
    "# сравнение двух треугольников с учетом погрешности\n",
    "tolerance = EPS\n",
    "\n",
    "def compare_triangles(t1, t2, tolerance):\n",
    "    \n",
    "    # check if both triangles have the same rotation\n",
    "    if t1.clockwise_rotation == t2.clockwise_rotation:\n",
    "        # check if the difference of the long sides is within tolerance\n",
    "        long_side_difference = math.fabs(t1.long_side - t2.long_side)\n",
    "        \n",
    "        if long_side_difference <= tolerance:\n",
    "            # check if the difference of the middle sides is within tolerance\n",
    "            middle_side_difference = math.fabs(t1.middle_side - t2.middle_side)\n",
    "            \n",
    "            if middle_side_difference <= tolerance:\n",
    "                # check if the difference of the short sides is within tolerance\n",
    "                short_side_difference = math.fabs(t1.short_side - t2.short_side)\n",
    "                \n",
    "                if short_side_difference <= tolerance: \n",
    "                    # triangles are considered equal\n",
    "                    return True\n",
    "    # triangles are considered different\n",
    "    return False"
   ]
  },
  {
   "cell_type": "code",
   "execution_count": 250,
   "metadata": {},
   "outputs": [
    {
     "name": "stdout",
     "output_type": "stream",
     "text": [
      "\n",
      "--------Triangle -------------------\n",
      "\n",
      "v1: x: 2 y: 8\n",
      "v2: x: 7 y: 6\n",
      "v3: x: 9 y: 13\n",
      "Longest side v3-v1: 8.602325266042627\n",
      "Middle side v2-v3: 7.280109889280518\n",
      "Shortest side v1-v2: 5.385164808134504\n",
      "Middle side is clockwise oriented\n",
      "counter clockwise_rotation\n"
     ]
    }
   ],
   "source": [
    "car_marker.pretty_print()"
   ]
  },
  {
   "cell_type": "code",
   "execution_count": 341,
   "metadata": {},
   "outputs": [],
   "source": [
    "class Marker(Triangle):\n",
    "    def __init__(self, p1, p2, p3, ID):\n",
    "        super().__init__(p1, p2, p3)\n",
    "        self.ID = ID\n",
    "        \n",
    "        try:\n",
    "            self.set_center_and_radius()\n",
    "        except Exception:\n",
    "            print('cant find center')\n",
    "        \n",
    "    def set_center_and_radius(self):\n",
    "        # используя линал (строим две прямые проходящие через три точки) \n",
    "        # пересечение перпендикуляров это координаты центра окружности\n",
    "        \n",
    "        if self.v2.x-self.v1.x == 0:\n",
    "            # count p2p3 p3p1\n",
    "            self.center = self.find_center(self.v2, self.v3, self.v1)\n",
    "            \n",
    "        if self.v3.x-self.v2.x == 0:\n",
    "            # count p3p1 p1p2\n",
    "            self.center = self.find_center(self.v3, self.v1, self.v2)\n",
    "            \n",
    "        else:\n",
    "            self.center = self.find_center(self.v1, self.v2, self.v3)\n",
    "            \n",
    "        \n",
    "        #m_a = (self.v2.y-self.v1.y) / (self.v2.x-self.v1.x)\n",
    "        #m_b = (self.v3.y-self.v2.y) / (self.v3.x-self.v2.x)\n",
    "        #x_center = (m_a*m_b*(self.v1.y-self.v3.y) + m_b*(self.v1.x+self.v2.x) - m_a*(self.v2.x+self.v3.x)) / (2*(m_b-m_a))\n",
    "        #y_center = -1/m_a * (x_center-(self.v1.x+self.v2.x)/2) + (self.v1.y+self.v2.y)/2\n",
    "        #self.center = Vector(x_center, y_center)\n",
    "        \n",
    "        #по коорд центра выч радиус\n",
    "        self.radius = distance(self.v1, self.center)\n",
    "        \n",
    "    def find_center(self, v1, v2, v3):\n",
    "        m_a = (v2.y-v1.y) / (v2.x-v1.x)\n",
    "        m_b = (v3.y-v2.y) / (v3.x-v2.x)\n",
    "        x_center = (m_a*m_b*(v1.y-v3.y) + m_b*(v1.x+v2.x) - m_a*(v2.x+v3.x)) / (2*(m_b-m_a))\n",
    "        y_center = -1/m_a * (x_center-(v1.x+v2.x)/2) + (v1.y+v2.y)/2\n",
    "        return Vector(x_center, y_center)\n",
    "        \n",
    "    def draw_circle_marker(self):\n",
    "        try:\n",
    "            self.set_center_and_radius()\n",
    "            \n",
    "            pylab.xlim(0,20)\n",
    "            pylab.ylim(0,20)\n",
    "            pylab.grid()\n",
    "\n",
    "            axes = pylab.gca()\n",
    "            axes.set_aspect(\"equal\")\n",
    "\n",
    "\n",
    "            circle = pylab.Circle((self.center.x, self.center.y), radius=self.radius, fill=False, color=\"r\")\n",
    "            axes.add_patch(circle)\n",
    "            pylab.text (self.center.x, self.center.y+self.radius, self.ID, horizontalalignment=\"center\")\n",
    "\n",
    "            center = pylab.Circle((self.center.x, self.center.y), radius=0.5, fill=True)\n",
    "            axes.add_patch(center)\n",
    "\n",
    "            p1 = pylab.Circle((self.v1.x, self.v1.y), radius=0.5, fill=True)\n",
    "            axes.add_patch(p1)\n",
    "\n",
    "            p2 = pylab.Circle((self.v2.x, self.v2.y), radius=0.5, fill=True)\n",
    "            axes.add_patch(p2)\n",
    "\n",
    "            p3 = pylab.Circle((self.v3.x, self.v3.y), radius=0.5, fill=True)\n",
    "            axes.add_patch(p3)\n",
    "\n",
    "            pylab.show()\n",
    "            \n",
    "        except Exception:\n",
    "            print('cant find center')"
   ]
  },
  {
   "cell_type": "code",
   "execution_count": 345,
   "metadata": {},
   "outputs": [],
   "source": [
    "test = Marker(UNIT_VECTOR, Vector(3,4), Vector(3,0), 'test')"
   ]
  },
  {
   "cell_type": "code",
   "execution_count": 346,
   "metadata": {},
   "outputs": [
    {
     "name": "stdout",
     "output_type": "stream",
     "text": [
      "two\n"
     ]
    },
    {
     "data": {
      "image/png": "[encoded data removed]",
      "text/plain": [
       "<Figure size 432x288 with 1 Axes>"
      ]
     },
     "metadata": {
      "needs_background": "light"
     },
     "output_type": "display_data"
    }
   ],
   "source": [
    "test.draw_circle_marker()"
   ]
  },
  {
   "cell_type": "markdown",
   "metadata": {},
   "source": [
    "## Маркеры при регистрации"
   ]
  },
  {
   "cell_type": "code",
   "execution_count": 347,
   "metadata": {},
   "outputs": [],
   "source": [
    "#Инициализируем маркеры. Их начальное положение. Угол поворота = 0\n",
    "target_car = [[2, 8], [7, 6], [9, 13]]\n",
    "target_tree = [[12, 8], [17, 5], [19, 13]]"
   ]
  },
  {
   "cell_type": "code",
   "execution_count": 348,
   "metadata": {},
   "outputs": [],
   "source": [
    "def create_marker(marker_dots, name):\n",
    "    marker = Marker(Vector(marker_dots[0][0], marker_dots[0][1]), \n",
    "                    Vector(marker_dots[1][0], marker_dots[1][1]),\n",
    "                    Vector(marker_dots[2][0], marker_dots[2][1]), \n",
    "                    name)\n",
    "    return marker\n",
    "\n",
    "def dots_to_cursors(input_dots):\n",
    "    input_cursors = []\n",
    "    for coord in input_dots:\n",
    "        input_cursors.append(Vector(coord[0], coord[1]))\n",
    "    return input_cursors"
   ]
  },
  {
   "cell_type": "code",
   "execution_count": 382,
   "metadata": {},
   "outputs": [],
   "source": [
    "tree_marker = create_marker(target_tree, 'tree')\n",
    "car_marker = create_marker(target_car, 'car')"
   ]
  },
  {
   "cell_type": "code",
   "execution_count": 244,
   "metadata": {},
   "outputs": [
    {
     "name": "stdout",
     "output_type": "stream",
     "text": [
      "Координаты касаний [[2, 8], [7, 6], [9, 13], [12, 8], [17, 5], [19, 13]]\n"
     ]
    }
   ],
   "source": [
    "input_dots = [[2, 8], [7, 6], [9, 13], [12, 8], [17, 5], [19, 13]]\n",
    "print('Координаты касаний', input_dots)"
   ]
  },
  {
   "cell_type": "code",
   "execution_count": 351,
   "metadata": {},
   "outputs": [
    {
     "data": {
      "text/plain": [
       "6"
      ]
     },
     "execution_count": 351,
     "metadata": {},
     "output_type": "execute_result"
    }
   ],
   "source": [
    "input_cursors = dots_to_cursors(input_dots)\n",
    "t_list = create_triangles_from_cursors(input_cursors)\n",
    "len(t_list)"
   ]
  },
  {
   "cell_type": "markdown",
   "metadata": {},
   "source": [
    "## Поиск маркера из списка треугольников"
   ]
  },
  {
   "cell_type": "code",
   "execution_count": 373,
   "metadata": {},
   "outputs": [],
   "source": [
    "registered_markers = [car_marker, tree_marker]"
   ]
  },
  {
   "cell_type": "code",
   "execution_count": 372,
   "metadata": {},
   "outputs": [],
   "source": [
    "def find_marker(t_list, marker, tolerance=EPS):\n",
    "    #equal_m_list = []\n",
    "    for t in t_list:\n",
    "        if compare_triangles(t, marker, tolerance):\n",
    "            return (Marker(t.v1, t.v2, t.v3, marker.ID + '_current'))\n",
    "            #equal_m_list.append(Marker(t.v1, t.v2, t.v3, marker.ID + '_current'))\n",
    "    #return equal_m_list"
   ]
  },
  {
   "cell_type": "code",
   "execution_count": 376,
   "metadata": {},
   "outputs": [],
   "source": [
    "def find_all_registered_markers(registered_markers, input_dots):\n",
    "    founded_markers_dict = {}\n",
    "    input_cursors = dots_to_cursors(input_dots)\n",
    "    t_list = create_triangles_from_cursors(input_cursors)\n",
    "    for m in registered_markers:\n",
    "        founded_markers_dict[m.ID] = find_marker(t_list, m)\n",
    "    return founded_markers_dict"
   ]
  },
  {
   "cell_type": "code",
   "execution_count": 385,
   "metadata": {},
   "outputs": [],
   "source": [
    "found_markers = find_all_registered_markers(registered_markers, input_dots)"
   ]
  },
  {
   "cell_type": "code",
   "execution_count": 386,
   "metadata": {},
   "outputs": [
    {
     "name": "stdout",
     "output_type": "stream",
     "text": [
      "{'car': <__main__.Marker object at 0x000001FA5EDD7DA0>,\n",
      " 'tree': <__main__.Marker object at 0x000001FA5EDD7898>}\n"
     ]
    }
   ],
   "source": [
    "pprint(found_markers)"
   ]
  },
  {
   "cell_type": "code",
   "execution_count": 387,
   "metadata": {},
   "outputs": [
    {
     "name": "stdout",
     "output_type": "stream",
     "text": [
      "three\n"
     ]
    },
    {
     "data": {
      "image/png": "[encoded data removed]",
      "text/plain": [
       "<Figure size 432x288 with 1 Axes>"
      ]
     },
     "metadata": {
      "needs_background": "light"
     },
     "output_type": "display_data"
    },
    {
     "name": "stdout",
     "output_type": "stream",
     "text": [
      "three\n"
     ]
    },
    {
     "data": {
      "image/png": "[encoded data removed]",
      "text/plain": [
       "<Figure size 432x288 with 1 Axes>"
      ]
     },
     "metadata": {
      "needs_background": "light"
     },
     "output_type": "display_data"
    }
   ],
   "source": [
    "for m in found_markers.values():\n",
    "    m.draw_circle_marker()"
   ]
  },
  {
   "cell_type": "markdown",
   "metadata": {},
   "source": [
    "## Центр маркера это его положение"
   ]
  },
  {
   "cell_type": "code",
   "execution_count": 388,
   "metadata": {},
   "outputs": [
    {
     "name": "stdout",
     "output_type": "stream",
     "text": [
      "car_current x: 5.756410256410256 y: 10.14102564102564\n",
      "tree_current x: 16.26086956521739 y: 9.434782608695652\n"
     ]
    }
   ],
   "source": [
    "for m in found_markers.values():\n",
    "    print(m.ID, m.center)"
   ]
  },
  {
   "cell_type": "markdown",
   "metadata": {},
   "source": [
    "## Сравнение углов в начале и в конце"
   ]
  },
  {
   "cell_type": "code",
   "execution_count": 370,
   "metadata": {},
   "outputs": [],
   "source": [
    "def marker_rotation_angle(marker, current_marker):\n",
    "    old_angle = calc_angle(UNIT_VECTOR, marker.v3-car_marker.v1)\n",
    "    new_angle = calc_angle(UNIT_VECTOR, current_marker.v3-now_car_marker.v1)\n",
    "    result = clockwise_difference_between_angles(old_angle, new_angle)\n",
    "    print(\"Маркер повернут на \", result, \"радиан\")\n",
    "    return result"
   ]
  },
  {
   "cell_type": "code",
   "execution_count": 389,
   "metadata": {},
   "outputs": [
    {
     "name": "stdout",
     "output_type": "stream",
     "text": [
      "Первый вектор: x: 0 y: 1\n",
      "Второй вектор: x: 7 y: 5\n",
      "радианы: 0.9505468408120751\n",
      "Первый вектор: x: 0 y: 1\n",
      "Второй вектор: x: 7 y: 5\n",
      "радианы: 0.9505468408120751\n",
      "Маркер повернут на  0.0 радиан\n"
     ]
    },
    {
     "data": {
      "text/plain": [
       "0.0"
      ]
     },
     "execution_count": 389,
     "metadata": {},
     "output_type": "execute_result"
    }
   ],
   "source": [
    "marker_rotation_angle(car_marker, found_markers['car'])"
   ]
  },
  {
   "cell_type": "code",
   "execution_count": null,
   "metadata": {},
   "outputs": [],
   "source": []
  }
 ],
 "metadata": {
  "kernelspec": {
   "display_name": "Python 3",
   "language": "python",
   "name": "python3"
  },
  "language_info": {
   "codemirror_mode": {
    "name": "ipython",
    "version": 3
   },
   "file_extension": ".py",
   "mimetype": "text/x-python",
   "name": "python",
   "nbconvert_exporter": "python",
   "pygments_lexer": "ipython3",
   "version": "3.7.0"
  }
 },
 "nbformat": 4,
 "nbformat_minor": 2
}
